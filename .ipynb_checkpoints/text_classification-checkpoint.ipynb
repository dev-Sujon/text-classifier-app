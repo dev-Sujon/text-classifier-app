{
 "cells": [
  {
   "cell_type": "markdown",
   "id": "163bc16f-11d8-450e-97ff-d44ccd4a32dc",
   "metadata": {},
   "source": [
    "# News text classification web app"
   ]
  },
  {
   "cell_type": "markdown",
   "id": "9cb5fe56-f735-4042-9077-c1d494d74120",
   "metadata": {},
   "source": [
    "## Project Goal"
   ]
  },
  {
   "cell_type": "markdown",
   "id": "3a7eaddf-c0ef-4b99-b605-852f7eb999ed",
   "metadata": {},
   "source": [
    "### Project Goal\n",
    "\n",
    "The goal of this project is to analyze customer sentiment towards various airlines using a dataset of tweets. By leveraging text classification techniques and sentiment analysis with transformer models, the project aims to:\n",
    "\n",
    "1. **Classify Sentiment**: Identify whether each tweet expresses a positive, neutral, or negative sentiment toward an airline.\n",
    "2. **Identify Negative Feedback Reasons**: For negative tweets, classify the specific reasons for dissatisfaction (e.g., customer service issues, delays).\n",
    "3. **Analyze Confidence in Sentiment**: Evaluate the confidence level associated with each sentiment prediction to ensure reliable classifications.\n",
    "4. **Compare Airline Sentiment**: Analyze sentiment trends across different airlines to identify which airlines receive the most positive or negative feedback.\n",
    "5. **Examine Sentiment Over Time**: Investigate how sentiment changes over time, potentially highlighting periods of high dissatisfaction or customer satisfaction.\n",
    "6. **Assess Retweet Impact**: Study if tweets with higher retweet counts tend to have specific sentiment types, offering insight into highly shared customer opinions.\n",
    "7. **Explore Location-based Sentiment**: Determine if the location of the tweet influences sentiment, potentially identifying region-specific issues or praise.\n",
    "\n",
    "This project ultimately aims to provide actionable insights for airlines, helping them understand customer sentiment and improve customer service based on real feedback."
   ]
  },
  {
   "cell_type": "markdown",
   "id": "f8a6364f-59f0-4f2b-80cb-96e466ffc887",
   "metadata": {},
   "source": [
    "## About Dataset"
   ]
  },
  {
   "cell_type": "markdown",
   "id": "26422fc0-b985-4372-ac78-198a91f15a1b",
   "metadata": {},
   "source": [
    "This is text document classification dataset which contains 2225 text data and five categories of documents. \n",
    "Five categories are politics, sport, tech, entertainment and business. We can use this dataset for documents\n",
    "classification and document clustering.\n",
    "\n",
    "Dataset contains two features text and label.\n",
    "No. of Rows : 2225\n",
    "No. of Columns : 2\n",
    "\n",
    "Text:It contains different categories of text data\n",
    "**Label: **It contains labels for five different categories : 0,1,2,3,4\n",
    "\n",
    "Politics = 0\n",
    "\n",
    "Sport = 1\n",
    "\n",
    "Technology = 2\n",
    "\n",
    "Entertainment =3\n",
    "\n",
    "Business = 4"
   ]
  },
  {
   "cell_type": "markdown",
   "id": "fbe63517-a753-462f-9287-59f7e13774bf",
   "metadata": {},
   "source": [
    "## Set Up Development Environment"
   ]
  },
  {
   "cell_type": "code",
   "execution_count": 1,
   "id": "2e841995-53c5-4a98-8dd8-05f9abe0e408",
   "metadata": {},
   "outputs": [
    {
     "name": "stderr",
     "output_type": "stream",
     "text": [
      "/home/sujon/.local/lib/python3.10/site-packages/matplotlib/projections/__init__.py:63: UserWarning: Unable to import Axes3D. This may be due to multiple versions of Matplotlib being installed (e.g. as a system package and as a pip package). As a result, the 3D projection is not available.\n",
      "  warnings.warn(\"Unable to import Axes3D. This may be due to multiple versions of \"\n"
     ]
    }
   ],
   "source": [
    "import pandas as pd\n",
    "import numpy as np\n",
    "import matplotlib.pyplot as plt\n",
    "import seaborn as sns\n",
    "import os\n",
    "import warnings\n",
    "\n",
    "# Set up warnings filter\n",
    "warnings.filterwarnings(\"ignore\")\n"
   ]
  },
  {
   "cell_type": "code",
   "execution_count": 2,
   "id": "6960fec2-873d-4a81-ae34-9bc580bba015",
   "metadata": {},
   "outputs": [],
   "source": [
    "from sklearn.preprocessing import LabelEncoder, OneHotEncoder\n",
    "from sklearn.metrics import confusion_matrix,f1_score\n",
    "from sklearn.feature_extraction.text import CountVectorizer\n",
    "from sklearn import tree\n"
   ]
  },
  {
   "cell_type": "code",
   "execution_count": 3,
   "id": "3e72c14d-7ab8-430a-a9f1-ee3434501f80",
   "metadata": {},
   "outputs": [],
   "source": [
    "from wordcloud import WordCloud\n",
    "from sklearn.metrics import confusion_matrix,f1_score,ConfusionMatrixDisplay\n",
    "from sklearn.feature_extraction.text import CountVectorizer\n",
    "from sklearn import tree\n",
    "import re\n",
    "from tqdm import tqdm\n",
    "import time\n",
    "import inflect\n",
    "import nltk"
   ]
  },
  {
   "cell_type": "code",
   "execution_count": 4,
   "id": "ba9d425c-2496-48ed-8eba-3f94cab20fa0",
   "metadata": {},
   "outputs": [],
   "source": [
    "\n",
    "from sklearn.metrics import jaccard_score\n",
    "from nltk.metrics import edit_distance\n",
    "from gensim.models import Word2Vec\n",
    "\n",
    "from nltk.tokenize import word_tokenize,sent_tokenize\n",
    "from nltk.corpus import stopwords\n",
    "from nltk.stem import PorterStemmer,WordNetLemmatizer\n",
    "from collections import Counter"
   ]
  },
  {
   "cell_type": "code",
   "execution_count": 5,
   "id": "c05662eb-2b1f-4e84-b381-8b0477b1a77a",
   "metadata": {},
   "outputs": [
    {
     "name": "stderr",
     "output_type": "stream",
     "text": [
      "[nltk_data] Downloading package punkt to /home/sujon/nltk_data...\n",
      "[nltk_data]   Package punkt is already up-to-date!\n",
      "[nltk_data] Downloading package stopwords to /home/sujon/nltk_data...\n",
      "[nltk_data]   Package stopwords is already up-to-date!\n",
      "[nltk_data] Downloading package wordnet to /home/sujon/nltk_data...\n",
      "[nltk_data]   Package wordnet is already up-to-date!\n"
     ]
    },
    {
     "data": {
      "text/plain": [
       "True"
      ]
     },
     "execution_count": 5,
     "metadata": {},
     "output_type": "execute_result"
    }
   ],
   "source": [
    "nltk.download('punkt')\n",
    "nltk.download('stopwords')\n",
    "nltk.download('wordnet')"
   ]
  },
  {
   "cell_type": "code",
   "execution_count": null,
   "id": "a6ac56c0-50e2-476b-9134-3af1027a47bf",
   "metadata": {},
   "outputs": [],
   "source": []
  },
  {
   "cell_type": "markdown",
   "id": "a88b9f20-04b7-4b57-bb43-c76f243b9ee0",
   "metadata": {},
   "source": [
    "## Load & Explore Dataset"
   ]
  },
  {
   "cell_type": "code",
   "execution_count": 6,
   "id": "dc965f2e-be18-4401-ab09-5368d6eecfba",
   "metadata": {},
   "outputs": [
    {
     "data": {
      "text/html": [
       "<div>\n",
       "<style scoped>\n",
       "    .dataframe tbody tr th:only-of-type {\n",
       "        vertical-align: middle;\n",
       "    }\n",
       "\n",
       "    .dataframe tbody tr th {\n",
       "        vertical-align: top;\n",
       "    }\n",
       "\n",
       "    .dataframe thead th {\n",
       "        text-align: right;\n",
       "    }\n",
       "</style>\n",
       "<table border=\"1\" class=\"dataframe\">\n",
       "  <thead>\n",
       "    <tr style=\"text-align: right;\">\n",
       "      <th></th>\n",
       "      <th>Text</th>\n",
       "      <th>Label</th>\n",
       "    </tr>\n",
       "  </thead>\n",
       "  <tbody>\n",
       "    <tr>\n",
       "      <th>0</th>\n",
       "      <td>Budget to set scene for election\\n \\n Gordon B...</td>\n",
       "      <td>0</td>\n",
       "    </tr>\n",
       "    <tr>\n",
       "      <th>1</th>\n",
       "      <td>Army chiefs in regiments decision\\n \\n Militar...</td>\n",
       "      <td>0</td>\n",
       "    </tr>\n",
       "    <tr>\n",
       "      <th>2</th>\n",
       "      <td>Howard denies split over ID cards\\n \\n Michael...</td>\n",
       "      <td>0</td>\n",
       "    </tr>\n",
       "    <tr>\n",
       "      <th>3</th>\n",
       "      <td>Observers to monitor UK election\\n \\n Minister...</td>\n",
       "      <td>0</td>\n",
       "    </tr>\n",
       "    <tr>\n",
       "      <th>4</th>\n",
       "      <td>Kilroy names election seat target\\n \\n Ex-chat...</td>\n",
       "      <td>0</td>\n",
       "    </tr>\n",
       "    <tr>\n",
       "      <th>...</th>\n",
       "      <td>...</td>\n",
       "      <td>...</td>\n",
       "    </tr>\n",
       "    <tr>\n",
       "      <th>2220</th>\n",
       "      <td>India opens skies to competition\\n \\n India wi...</td>\n",
       "      <td>4</td>\n",
       "    </tr>\n",
       "    <tr>\n",
       "      <th>2221</th>\n",
       "      <td>Yukos bankruptcy 'not US matter'\\n \\n Russian ...</td>\n",
       "      <td>4</td>\n",
       "    </tr>\n",
       "    <tr>\n",
       "      <th>2222</th>\n",
       "      <td>Survey confirms property slowdown\\n \\n Governm...</td>\n",
       "      <td>4</td>\n",
       "    </tr>\n",
       "    <tr>\n",
       "      <th>2223</th>\n",
       "      <td>High fuel prices hit BA's profits\\n \\n British...</td>\n",
       "      <td>4</td>\n",
       "    </tr>\n",
       "    <tr>\n",
       "      <th>2224</th>\n",
       "      <td>US trade gap hits record in 2004\\n \\n The gap ...</td>\n",
       "      <td>4</td>\n",
       "    </tr>\n",
       "  </tbody>\n",
       "</table>\n",
       "<p>2225 rows × 2 columns</p>\n",
       "</div>"
      ],
      "text/plain": [
       "                                                   Text  Label\n",
       "0     Budget to set scene for election\\n \\n Gordon B...      0\n",
       "1     Army chiefs in regiments decision\\n \\n Militar...      0\n",
       "2     Howard denies split over ID cards\\n \\n Michael...      0\n",
       "3     Observers to monitor UK election\\n \\n Minister...      0\n",
       "4     Kilroy names election seat target\\n \\n Ex-chat...      0\n",
       "...                                                 ...    ...\n",
       "2220  India opens skies to competition\\n \\n India wi...      4\n",
       "2221  Yukos bankruptcy 'not US matter'\\n \\n Russian ...      4\n",
       "2222  Survey confirms property slowdown\\n \\n Governm...      4\n",
       "2223  High fuel prices hit BA's profits\\n \\n British...      4\n",
       "2224  US trade gap hits record in 2004\\n \\n The gap ...      4\n",
       "\n",
       "[2225 rows x 2 columns]"
      ]
     },
     "execution_count": 6,
     "metadata": {},
     "output_type": "execute_result"
    }
   ],
   "source": [
    "df = pd.read_csv(\"dataset/df_file.csv\")\n",
    "df"
   ]
  },
  {
   "cell_type": "code",
   "execution_count": 7,
   "id": "0ea23478-741e-4d1a-8543-39930315b05c",
   "metadata": {},
   "outputs": [
    {
     "data": {
      "text/plain": [
       "0       Budget to set scene for election\\n \\n Gordon B...\n",
       "1       Army chiefs in regiments decision\\n \\n Militar...\n",
       "2       Howard denies split over ID cards\\n \\n Michael...\n",
       "3       Observers to monitor UK election\\n \\n Minister...\n",
       "4       Kilroy names election seat target\\n \\n Ex-chat...\n",
       "                              ...                        \n",
       "2220    India opens skies to competition\\n \\n India wi...\n",
       "2221    Yukos bankruptcy 'not US matter'\\n \\n Russian ...\n",
       "2222    Survey confirms property slowdown\\n \\n Governm...\n",
       "2223    High fuel prices hit BA's profits\\n \\n British...\n",
       "2224    US trade gap hits record in 2004\\n \\n The gap ...\n",
       "Name: Text, Length: 2225, dtype: object"
      ]
     },
     "execution_count": 7,
     "metadata": {},
     "output_type": "execute_result"
    }
   ],
   "source": [
    "df['Text']"
   ]
  },
  {
   "cell_type": "code",
   "execution_count": 8,
   "id": "61e848d3-70a3-4403-a3ae-408bdb4ecd30",
   "metadata": {},
   "outputs": [
    {
     "data": {
      "text/plain": [
       "(2225, 2)"
      ]
     },
     "execution_count": 8,
     "metadata": {},
     "output_type": "execute_result"
    }
   ],
   "source": [
    "df.shape"
   ]
  },
  {
   "cell_type": "code",
   "execution_count": 9,
   "id": "e92f85c4-647c-4e51-8f61-495fadb08914",
   "metadata": {},
   "outputs": [
    {
     "data": {
      "image/png": "[encoded data removed]",
      "text/plain": [
       "<Figure size 800x600 with 1 Axes>"
      ]
     },
     "metadata": {},
     "output_type": "display_data"
    }
   ],
   "source": [
    "import pandas as pd\n",
    "import matplotlib.pyplot as plt\n",
    "\n",
    "# Count unique values\n",
    "label_counts = df[\"Label\"].value_counts()\n",
    "\n",
    "# Create custom labels\n",
    "labels = [f'{label} ({count})' for label, count in zip(label_counts.index, label_counts)]\n",
    "\n",
    "# Create a pie chart\n",
    "plt.figure(figsize=(8, 6))\n",
    "plt.pie(label_counts, labels=labels, autopct='%1.1f%%', startangle=140)\n",
    "plt.title('Distribution of Labels')\n",
    "plt.axis('equal')  # Equal aspect ratio ensures that pie is drawn as a circle.\n",
    "plt.show()\n"
   ]
  },
  {
   "cell_type": "code",
   "execution_count": null,
   "id": "908929a4-2ef8-4fb2-adc9-cf10f74eaf22",
   "metadata": {},
   "outputs": [],
   "source": []
  },
  {
   "cell_type": "code",
   "execution_count": 10,
   "id": "1405ae8b-bfdf-4d35-9b2a-e70b311d8c89",
   "metadata": {},
   "outputs": [
    {
     "data": {
      "text/plain": [
       "<bound method DataFrame.info of                                                    Text  Label\n",
       "0     Budget to set scene for election\\n \\n Gordon B...      0\n",
       "1     Army chiefs in regiments decision\\n \\n Militar...      0\n",
       "2     Howard denies split over ID cards\\n \\n Michael...      0\n",
       "3     Observers to monitor UK election\\n \\n Minister...      0\n",
       "4     Kilroy names election seat target\\n \\n Ex-chat...      0\n",
       "...                                                 ...    ...\n",
       "2220  India opens skies to competition\\n \\n India wi...      4\n",
       "2221  Yukos bankruptcy 'not US matter'\\n \\n Russian ...      4\n",
       "2222  Survey confirms property slowdown\\n \\n Governm...      4\n",
       "2223  High fuel prices hit BA's profits\\n \\n British...      4\n",
       "2224  US trade gap hits record in 2004\\n \\n The gap ...      4\n",
       "\n",
       "[2225 rows x 2 columns]>"
      ]
     },
     "execution_count": 10,
     "metadata": {},
     "output_type": "execute_result"
    }
   ],
   "source": [
    "df.info"
   ]
  },
  {
   "cell_type": "code",
   "execution_count": null,
   "id": "74d7b731-eba4-4946-a04e-72760caa89bf",
   "metadata": {},
   "outputs": [],
   "source": []
  },
  {
   "cell_type": "code",
   "execution_count": 11,
   "id": "bfd1acfa-02c5-4e33-b8c0-bab58366e49a",
   "metadata": {},
   "outputs": [
    {
     "data": {
      "text/plain": [
       "<bound method NDFrame.describe of                                                    Text  Label\n",
       "0     Budget to set scene for election\\n \\n Gordon B...      0\n",
       "1     Army chiefs in regiments decision\\n \\n Militar...      0\n",
       "2     Howard denies split over ID cards\\n \\n Michael...      0\n",
       "3     Observers to monitor UK election\\n \\n Minister...      0\n",
       "4     Kilroy names election seat target\\n \\n Ex-chat...      0\n",
       "...                                                 ...    ...\n",
       "2220  India opens skies to competition\\n \\n India wi...      4\n",
       "2221  Yukos bankruptcy 'not US matter'\\n \\n Russian ...      4\n",
       "2222  Survey confirms property slowdown\\n \\n Governm...      4\n",
       "2223  High fuel prices hit BA's profits\\n \\n British...      4\n",
       "2224  US trade gap hits record in 2004\\n \\n The gap ...      4\n",
       "\n",
       "[2225 rows x 2 columns]>"
      ]
     },
     "execution_count": 11,
     "metadata": {},
     "output_type": "execute_result"
    }
   ],
   "source": [
    "df.describe"
   ]
  },
  {
   "cell_type": "code",
   "execution_count": 12,
   "id": "3040161b-b79c-4102-91f6-d5d1aea033a3",
   "metadata": {},
   "outputs": [
    {
     "data": {
      "text/html": [
       "<div>\n",
       "<style scoped>\n",
       "    .dataframe tbody tr th:only-of-type {\n",
       "        vertical-align: middle;\n",
       "    }\n",
       "\n",
       "    .dataframe tbody tr th {\n",
       "        vertical-align: top;\n",
       "    }\n",
       "\n",
       "    .dataframe thead th {\n",
       "        text-align: right;\n",
       "    }\n",
       "</style>\n",
       "<table border=\"1\" class=\"dataframe\">\n",
       "  <thead>\n",
       "    <tr style=\"text-align: right;\">\n",
       "      <th></th>\n",
       "      <th>Text</th>\n",
       "      <th>Label</th>\n",
       "    </tr>\n",
       "  </thead>\n",
       "  <tbody>\n",
       "    <tr>\n",
       "      <th>0</th>\n",
       "      <td>Budget to set scene for election\\n \\n Gordon B...</td>\n",
       "      <td>0</td>\n",
       "    </tr>\n",
       "    <tr>\n",
       "      <th>1</th>\n",
       "      <td>Army chiefs in regiments decision\\n \\n Militar...</td>\n",
       "      <td>0</td>\n",
       "    </tr>\n",
       "    <tr>\n",
       "      <th>2</th>\n",
       "      <td>Howard denies split over ID cards\\n \\n Michael...</td>\n",
       "      <td>0</td>\n",
       "    </tr>\n",
       "    <tr>\n",
       "      <th>3</th>\n",
       "      <td>Observers to monitor UK election\\n \\n Minister...</td>\n",
       "      <td>0</td>\n",
       "    </tr>\n",
       "    <tr>\n",
       "      <th>4</th>\n",
       "      <td>Kilroy names election seat target\\n \\n Ex-chat...</td>\n",
       "      <td>0</td>\n",
       "    </tr>\n",
       "    <tr>\n",
       "      <th>5</th>\n",
       "      <td>Donor attacks Blair-Brown 'feud'\\n \\n The repo...</td>\n",
       "      <td>0</td>\n",
       "    </tr>\n",
       "    <tr>\n",
       "      <th>6</th>\n",
       "      <td>Research fears over Kelly's views\\n \\n Scienti...</td>\n",
       "      <td>0</td>\n",
       "    </tr>\n",
       "    <tr>\n",
       "      <th>7</th>\n",
       "      <td>Chancellor rallies Labour voters\\n \\n Gordon B...</td>\n",
       "      <td>0</td>\n",
       "    </tr>\n",
       "    <tr>\n",
       "      <th>8</th>\n",
       "      <td>Fox attacks Blair's Tory 'lies'\\n \\n Tony Blai...</td>\n",
       "      <td>0</td>\n",
       "    </tr>\n",
       "    <tr>\n",
       "      <th>9</th>\n",
       "      <td>Tories unveil quango blitz plans\\n \\n Plans to...</td>\n",
       "      <td>0</td>\n",
       "    </tr>\n",
       "    <tr>\n",
       "      <th>10</th>\n",
       "      <td>Hatfield executives go on trial\\n \\n Engineeri...</td>\n",
       "      <td>0</td>\n",
       "    </tr>\n",
       "  </tbody>\n",
       "</table>\n",
       "</div>"
      ],
      "text/plain": [
       "                                                 Text  Label\n",
       "0   Budget to set scene for election\\n \\n Gordon B...      0\n",
       "1   Army chiefs in regiments decision\\n \\n Militar...      0\n",
       "2   Howard denies split over ID cards\\n \\n Michael...      0\n",
       "3   Observers to monitor UK election\\n \\n Minister...      0\n",
       "4   Kilroy names election seat target\\n \\n Ex-chat...      0\n",
       "5   Donor attacks Blair-Brown 'feud'\\n \\n The repo...      0\n",
       "6   Research fears over Kelly's views\\n \\n Scienti...      0\n",
       "7   Chancellor rallies Labour voters\\n \\n Gordon B...      0\n",
       "8   Fox attacks Blair's Tory 'lies'\\n \\n Tony Blai...      0\n",
       "9   Tories unveil quango blitz plans\\n \\n Plans to...      0\n",
       "10  Hatfield executives go on trial\\n \\n Engineeri...      0"
      ]
     },
     "execution_count": 12,
     "metadata": {},
     "output_type": "execute_result"
    }
   ],
   "source": [
    "df.head(11)"
   ]
  },
  {
   "cell_type": "code",
   "execution_count": 13,
   "id": "92da3c4d-6a34-4c6e-98dc-640728eedb15",
   "metadata": {},
   "outputs": [
    {
     "name": "stdout",
     "output_type": "stream",
     "text": [
      "<class 'pandas.core.frame.DataFrame'>\n",
      "RangeIndex: 2225 entries, 0 to 2224\n",
      "Data columns (total 2 columns):\n",
      " #   Column  Non-Null Count  Dtype \n",
      "---  ------  --------------  ----- \n",
      " 0   Text    2225 non-null   object\n",
      " 1   Label   2225 non-null   int64 \n",
      "dtypes: int64(1), object(1)\n",
      "memory usage: 34.9+ KB\n"
     ]
    }
   ],
   "source": [
    "df.info()"
   ]
  },
  {
   "cell_type": "code",
   "execution_count": 14,
   "id": "603c7dd3-28fc-4dd4-b6ce-66a96ca5baa4",
   "metadata": {},
   "outputs": [
    {
     "data": {
      "text/plain": [
       "0       0\n",
       "1       0\n",
       "2       0\n",
       "3       0\n",
       "4       0\n",
       "       ..\n",
       "2220    4\n",
       "2221    4\n",
       "2222    4\n",
       "2223    4\n",
       "2224    4\n",
       "Name: Label, Length: 2225, dtype: int64"
      ]
     },
     "execution_count": 14,
     "metadata": {},
     "output_type": "execute_result"
    }
   ],
   "source": [
    "df.Label"
   ]
  },
  {
   "cell_type": "markdown",
   "id": "1373c94d-a835-4842-8148-81d055a35468",
   "metadata": {},
   "source": [
    "## Preprocess the Data"
   ]
  },
  {
   "cell_type": "code",
   "execution_count": 15,
   "id": "9d0b5169-a216-412f-b96e-21d322bbc4bb",
   "metadata": {},
   "outputs": [
    {
     "data": {
      "text/html": [
       "<div>\n",
       "<style scoped>\n",
       "    .dataframe tbody tr th:only-of-type {\n",
       "        vertical-align: middle;\n",
       "    }\n",
       "\n",
       "    .dataframe tbody tr th {\n",
       "        vertical-align: top;\n",
       "    }\n",
       "\n",
       "    .dataframe thead th {\n",
       "        text-align: right;\n",
       "    }\n",
       "</style>\n",
       "<table border=\"1\" class=\"dataframe\">\n",
       "  <thead>\n",
       "    <tr style=\"text-align: right;\">\n",
       "      <th></th>\n",
       "      <th>Text</th>\n",
       "      <th>Label</th>\n",
       "    </tr>\n",
       "  </thead>\n",
       "  <tbody>\n",
       "    <tr>\n",
       "      <th>0</th>\n",
       "      <td>Budget to set scene for election\\n \\n Gordon B...</td>\n",
       "      <td>0</td>\n",
       "    </tr>\n",
       "    <tr>\n",
       "      <th>1</th>\n",
       "      <td>Army chiefs in regiments decision\\n \\n Militar...</td>\n",
       "      <td>0</td>\n",
       "    </tr>\n",
       "    <tr>\n",
       "      <th>2</th>\n",
       "      <td>Howard denies split over ID cards\\n \\n Michael...</td>\n",
       "      <td>0</td>\n",
       "    </tr>\n",
       "    <tr>\n",
       "      <th>3</th>\n",
       "      <td>Observers to monitor UK election\\n \\n Minister...</td>\n",
       "      <td>0</td>\n",
       "    </tr>\n",
       "    <tr>\n",
       "      <th>4</th>\n",
       "      <td>Kilroy names election seat target\\n \\n Ex-chat...</td>\n",
       "      <td>0</td>\n",
       "    </tr>\n",
       "    <tr>\n",
       "      <th>...</th>\n",
       "      <td>...</td>\n",
       "      <td>...</td>\n",
       "    </tr>\n",
       "    <tr>\n",
       "      <th>2220</th>\n",
       "      <td>India opens skies to competition\\n \\n India wi...</td>\n",
       "      <td>4</td>\n",
       "    </tr>\n",
       "    <tr>\n",
       "      <th>2221</th>\n",
       "      <td>Yukos bankruptcy 'not US matter'\\n \\n Russian ...</td>\n",
       "      <td>4</td>\n",
       "    </tr>\n",
       "    <tr>\n",
       "      <th>2222</th>\n",
       "      <td>Survey confirms property slowdown\\n \\n Governm...</td>\n",
       "      <td>4</td>\n",
       "    </tr>\n",
       "    <tr>\n",
       "      <th>2223</th>\n",
       "      <td>High fuel prices hit BA's profits\\n \\n British...</td>\n",
       "      <td>4</td>\n",
       "    </tr>\n",
       "    <tr>\n",
       "      <th>2224</th>\n",
       "      <td>US trade gap hits record in 2004\\n \\n The gap ...</td>\n",
       "      <td>4</td>\n",
       "    </tr>\n",
       "  </tbody>\n",
       "</table>\n",
       "<p>2225 rows × 2 columns</p>\n",
       "</div>"
      ],
      "text/plain": [
       "                                                   Text  Label\n",
       "0     Budget to set scene for election\\n \\n Gordon B...      0\n",
       "1     Army chiefs in regiments decision\\n \\n Militar...      0\n",
       "2     Howard denies split over ID cards\\n \\n Michael...      0\n",
       "3     Observers to monitor UK election\\n \\n Minister...      0\n",
       "4     Kilroy names election seat target\\n \\n Ex-chat...      0\n",
       "...                                                 ...    ...\n",
       "2220  India opens skies to competition\\n \\n India wi...      4\n",
       "2221  Yukos bankruptcy 'not US matter'\\n \\n Russian ...      4\n",
       "2222  Survey confirms property slowdown\\n \\n Governm...      4\n",
       "2223  High fuel prices hit BA's profits\\n \\n British...      4\n",
       "2224  US trade gap hits record in 2004\\n \\n The gap ...      4\n",
       "\n",
       "[2225 rows x 2 columns]"
      ]
     },
     "execution_count": 15,
     "metadata": {},
     "output_type": "execute_result"
    }
   ],
   "source": [
    "df"
   ]
  },
  {
   "cell_type": "code",
   "execution_count": 16,
   "id": "b1e52ab9-fb10-4eaf-849b-f1da658577aa",
   "metadata": {},
   "outputs": [
    {
     "data": {
      "text/plain": [
       "Text     0\n",
       "Label    0\n",
       "dtype: int64"
      ]
     },
     "execution_count": 16,
     "metadata": {},
     "output_type": "execute_result"
    }
   ],
   "source": [
    "df.isnull().sum()"
   ]
  },
  {
   "cell_type": "code",
   "execution_count": 17,
   "id": "3645c5a2-8c47-4a02-8cd2-4947e1b9dc6d",
   "metadata": {},
   "outputs": [
    {
     "name": "stdout",
     "output_type": "stream",
     "text": [
      "       News Type  Label_0  Label_1  Label_2  Label_3  Label_4\n",
      "0       Politics     True    False    False    False    False\n",
      "1          Sport    False     True    False    False    False\n",
      "2     Technology    False    False     True    False    False\n",
      "3  Entertainment    False    False    False     True    False\n",
      "4       Business    False    False    False    False     True\n"
     ]
    }
   ],
   "source": [
    "import pandas as pd\n",
    "\n",
    "# Define the dictionary with sample data\n",
    "news_type = {\n",
    "    0: \"Politics\",\n",
    "    1: \"Sport\",\n",
    "    2: \"Technology\",\n",
    "    3: \"Entertainment\",\n",
    "    4: \"Business\"\n",
    "}\n",
    "\n",
    "# Convert dictionary to DataFrame\n",
    "df[\"encoding\"] = pd.DataFrame(list(news_type.items()), columns=['Label', 'News Type'])\n",
    "\n",
    "# One-hot encode the 'Label' column\n",
    "df_encoded = pd.get_dummies(df, columns=['Label'])\n",
    "\n",
    "print(df_encoded)\n"
   ]
  },
  {
   "cell_type": "code",
   "execution_count": 20,
   "id": "2bd87e52-470a-4376-82f8-8df72bc7560e",
   "metadata": {},
   "outputs": [
    {
     "data": {
      "text/html": [
       "<div>\n",
       "<style scoped>\n",
       "    .dataframe tbody tr th:only-of-type {\n",
       "        vertical-align: middle;\n",
       "    }\n",
       "\n",
       "    .dataframe tbody tr th {\n",
       "        vertical-align: top;\n",
       "    }\n",
       "\n",
       "    .dataframe thead th {\n",
       "        text-align: right;\n",
       "    }\n",
       "</style>\n",
       "<table border=\"1\" class=\"dataframe\">\n",
       "  <thead>\n",
       "    <tr style=\"text-align: right;\">\n",
       "      <th></th>\n",
       "      <th>Label</th>\n",
       "      <th>News Type</th>\n",
       "    </tr>\n",
       "  </thead>\n",
       "  <tbody>\n",
       "    <tr>\n",
       "      <th>0</th>\n",
       "      <td>0</td>\n",
       "      <td>Politics</td>\n",
       "    </tr>\n",
       "    <tr>\n",
       "      <th>1</th>\n",
       "      <td>1</td>\n",
       "      <td>Sport</td>\n",
       "    </tr>\n",
       "    <tr>\n",
       "      <th>2</th>\n",
       "      <td>2</td>\n",
       "      <td>Technology</td>\n",
       "    </tr>\n",
       "    <tr>\n",
       "      <th>3</th>\n",
       "      <td>3</td>\n",
       "      <td>Entertainment</td>\n",
       "    </tr>\n",
       "    <tr>\n",
       "      <th>4</th>\n",
       "      <td>4</td>\n",
       "      <td>Business</td>\n",
       "    </tr>\n",
       "  </tbody>\n",
       "</table>\n",
       "</div>"
      ],
      "text/plain": [
       "   Label      News Type\n",
       "0      0       Politics\n",
       "1      1          Sport\n",
       "2      2     Technology\n",
       "3      3  Entertainment\n",
       "4      4       Business"
      ]
     },
     "execution_count": 20,
     "metadata": {},
     "output_type": "execute_result"
    }
   ],
   "source": [
    "df"
   ]
  },
  {
   "cell_type": "code",
   "execution_count": null,
   "id": "b9687042-61f2-4d48-87c6-e2f4f1f642bb",
   "metadata": {},
   "outputs": [],
   "source": [
    "df"
   ]
  },
  {
   "cell_type": "markdown",
   "id": "b7a3328d-a7fd-4d00-a3d7-5c353ba4b6b9",
   "metadata": {},
   "source": [
    "## Define and Fine-Tune the Model"
   ]
  },
  {
   "cell_type": "code",
   "execution_count": null,
   "id": "a921f60b-f106-4b23-9238-bbf169e1b8a0",
   "metadata": {},
   "outputs": [],
   "source": []
  },
  {
   "cell_type": "code",
   "execution_count": null,
   "id": "474ae43b-ad4e-4b8d-a8b5-65cccbfb46e1",
   "metadata": {},
   "outputs": [],
   "source": []
  },
  {
   "cell_type": "markdown",
   "id": "f0877de6-7fd4-498b-b10c-ba58cb4dad9c",
   "metadata": {},
   "source": [
    "## Evaluate the Model "
   ]
  },
  {
   "cell_type": "code",
   "execution_count": null,
   "id": "5ee75f1e-d905-4c05-9ea2-30d2a186eec5",
   "metadata": {},
   "outputs": [],
   "source": []
  },
  {
   "cell_type": "code",
   "execution_count": null,
   "id": "d425d653-f9c3-45ef-b968-f96e728c8481",
   "metadata": {},
   "outputs": [],
   "source": []
  },
  {
   "cell_type": "markdown",
   "id": "bcc089cd-fc04-4861-a68b-9a55ef08f1f8",
   "metadata": {},
   "source": [
    "## Test the Model"
   ]
  },
  {
   "cell_type": "code",
   "execution_count": null,
   "id": "d174a3bc-969b-4855-a2c7-6f9ac30d9476",
   "metadata": {},
   "outputs": [],
   "source": []
  },
  {
   "cell_type": "code",
   "execution_count": null,
   "id": "15b7c391-5b74-4c81-a88f-929685369c6f",
   "metadata": {},
   "outputs": [],
   "source": []
  },
  {
   "cell_type": "code",
   "execution_count": null,
   "id": "5c494e9f-1d7b-4823-927e-2c5040e647c6",
   "metadata": {},
   "outputs": [],
   "source": [
    "## Evaluate the Model"
   ]
  },
  {
   "cell_type": "code",
   "execution_count": null,
   "id": "5e727b46-47aa-4e5e-9963-eb46935a1b7d",
   "metadata": {},
   "outputs": [],
   "source": []
  },
  {
   "cell_type": "code",
   "execution_count": null,
   "id": "666b4a3d-a178-46fd-afb0-ffaa61ee39cd",
   "metadata": {},
   "outputs": [],
   "source": []
  },
  {
   "cell_type": "code",
   "execution_count": null,
   "id": "694ab169-163d-4713-a2dc-a4a2b59554d4",
   "metadata": {},
   "outputs": [],
   "source": []
  },
  {
   "cell_type": "code",
   "execution_count": null,
   "id": "1f72aa5b-dd5c-49d5-834f-3a28e2a95c64",
   "metadata": {},
   "outputs": [],
   "source": []
  },
  {
   "cell_type": "code",
   "execution_count": null,
   "id": "3c7dbf66-fb9b-488c-a96d-b906430a79bb",
   "metadata": {},
   "outputs": [],
   "source": []
  },
  {
   "cell_type": "code",
   "execution_count": null,
   "id": "373ddd69-353b-43b4-b763-b44185c9a758",
   "metadata": {},
   "outputs": [],
   "source": []
  },
  {
   "cell_type": "code",
   "execution_count": null,
   "id": "211bc390-100b-4ed6-a143-82d113d3b612",
   "metadata": {},
   "outputs": [],
   "source": []
  },
  {
   "cell_type": "code",
   "execution_count": null,
   "id": "9280c7a4-4d27-44c3-abd2-168d9f19bad6",
   "metadata": {},
   "outputs": [],
   "source": []
  },
  {
   "cell_type": "code",
   "execution_count": null,
   "id": "5d27e127-6430-442d-85cc-a3cafb2a1b9b",
   "metadata": {},
   "outputs": [],
   "source": []
  },
  {
   "cell_type": "code",
   "execution_count": null,
   "id": "614346ee-3443-4b8e-8641-51be100a35cc",
   "metadata": {},
   "outputs": [],
   "source": []
  },
  {
   "cell_type": "code",
   "execution_count": null,
   "id": "7eb26d60-e73f-4873-a83b-37bbd9bf44bd",
   "metadata": {},
   "outputs": [],
   "source": []
  },
  {
   "cell_type": "code",
   "execution_count": null,
   "id": "c3d6457f-347e-45d6-939f-b9a946af6a54",
   "metadata": {},
   "outputs": [],
   "source": []
  },
  {
   "cell_type": "code",
   "execution_count": null,
   "id": "e6fb74c8-f047-4ea8-9c95-043a327cfad2",
   "metadata": {},
   "outputs": [],
   "source": []
  },
  {
   "cell_type": "code",
   "execution_count": null,
   "id": "6104c96a-adcb-4cd2-86f7-82d100ecd05c",
   "metadata": {},
   "outputs": [],
   "source": []
  },
  {
   "cell_type": "code",
   "execution_count": null,
   "id": "13ea03d3-d282-4ef1-b7f1-a7d2833de56f",
   "metadata": {},
   "outputs": [],
   "source": []
  },
  {
   "cell_type": "code",
   "execution_count": null,
   "id": "19e1ac76-10d3-4035-8297-802508370cc3",
   "metadata": {},
   "outputs": [],
   "source": []
  },
  {
   "cell_type": "code",
   "execution_count": null,
   "id": "3f4b470b-de4f-49d1-ab3a-69b2c58ba445",
   "metadata": {},
   "outputs": [],
   "source": []
  },
  {
   "cell_type": "code",
   "execution_count": null,
   "id": "c74fb2c6-171f-4545-aedb-51eba0ad8564",
   "metadata": {},
   "outputs": [],
   "source": []
  }
 ],
 "metadata": {
  "kernelspec": {
   "display_name": "Python 3 (ipykernel)",
   "language": "python",
   "name": "python3"
  },
  "language_info": {
   "codemirror_mode": {
    "name": "ipython",
    "version": 3
   },
   "file_extension": ".py",
   "mimetype": "text/x-python",
   "name": "python",
   "nbconvert_exporter": "python",
   "pygments_lexer": "ipython3",
   "version": "3.10.12"
  }
 },
 "nbformat": 4,
 "nbformat_minor": 5
}
